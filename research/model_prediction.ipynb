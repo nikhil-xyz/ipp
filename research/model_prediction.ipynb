{
 "cells": [
  {
   "cell_type": "code",
   "execution_count": 1,
   "metadata": {},
   "outputs": [],
   "source": [
    "import os"
   ]
  },
  {
   "cell_type": "code",
   "execution_count": 2,
   "metadata": {},
   "outputs": [
    {
     "data": {
      "text/plain": [
       "'c:\\\\Users\\\\nikhil\\\\OneDrive\\\\Desktop\\\\ML Projects\\\\ipp\\\\research'"
      ]
     },
     "execution_count": 2,
     "metadata": {},
     "output_type": "execute_result"
    }
   ],
   "source": [
    "%pwd"
   ]
  },
  {
   "cell_type": "code",
   "execution_count": 3,
   "metadata": {},
   "outputs": [],
   "source": [
    "os.chdir(\"../\")"
   ]
  },
  {
   "cell_type": "code",
   "execution_count": 4,
   "metadata": {},
   "outputs": [
    {
     "data": {
      "text/plain": [
       "'c:\\\\Users\\\\nikhil\\\\OneDrive\\\\Desktop\\\\ML Projects\\\\ipp'"
      ]
     },
     "execution_count": 4,
     "metadata": {},
     "output_type": "execute_result"
    }
   ],
   "source": [
    "%pwd"
   ]
  },
  {
   "cell_type": "code",
   "execution_count": 5,
   "metadata": {},
   "outputs": [],
   "source": [
    "from dataclasses import dataclass\n",
    "from pathlib import Path"
   ]
  },
  {
   "cell_type": "code",
   "execution_count": 6,
   "metadata": {},
   "outputs": [],
   "source": [
    "@dataclass(frozen=True)\n",
    "class ModelPredictionConfig:\n",
    "    root_dir : Path\n",
    "    preprocessor_obj_file_path : Path\n",
    "    model_path : Path"
   ]
  },
  {
   "cell_type": "code",
   "execution_count": 7,
   "metadata": {},
   "outputs": [],
   "source": [
    "from insurancePP.logging import logger\n",
    "from insurancePP.utils.common import read_yaml, create_directories, load_object\n",
    "from insurancePP.constants import *"
   ]
  },
  {
   "cell_type": "code",
   "execution_count": 8,
   "metadata": {},
   "outputs": [],
   "source": [
    "class ConfigurationManager:\n",
    "    def __init__(self, config_filepath = CONFIG_FILE_PATH, params_filepath = PARAMS_FILE_PATH):\n",
    "        self.config = read_yaml(config_filepath)\n",
    "        self.params = read_yaml(params_filepath)\n",
    "        create_directories([self.config.artifacts_root])\n",
    "\n",
    "    def get_model_prediction_config(self) -> ModelPredictionConfig:\n",
    "        config = self.config.model_prediction\n",
    "        create_directories([config.root_dir])\n",
    "\n",
    "        return ModelPredictionConfig(\n",
    "            root_dir = config.root_dir,\n",
    "            preprocessor_obj_file_path = config.preprocessor_obj_file_path,\n",
    "            model_path = config.model_path\n",
    "        )"
   ]
  },
  {
   "cell_type": "code",
   "execution_count": 9,
   "metadata": {},
   "outputs": [],
   "source": [
    "class ModelPrediction:\n",
    "    def __init__(self, config : ModelPredictionConfig):\n",
    "        self.config = config\n",
    "        \n",
    "    def predict_sample_data(self, data):\n",
    "        preprocessor = load_object(self.config.preprocessor_obj_file_path)\n",
    "        model = load_object(self.config.model_path)\n",
    "\n",
    "        logger.info(\"Both preprocessor and model are loaded successfully from disk\")\n",
    "        return model.predict(preprocessor.transform(data))"
   ]
  },
  {
   "cell_type": "code",
   "execution_count": 10,
   "metadata": {},
   "outputs": [],
   "source": [
    "import pandas as pd\n",
    "sample = pd.DataFrame({'age':[19], 'sex':['female'], 'bmi':[27.9], 'children':[0], 'smoker':['yes'], 'region':['southwest']})"
   ]
  },
  {
   "cell_type": "code",
   "execution_count": 11,
   "metadata": {},
   "outputs": [
    {
     "data": {
      "text/plain": [
       "age           int64\n",
       "sex          object\n",
       "bmi         float64\n",
       "children      int64\n",
       "smoker       object\n",
       "region       object\n",
       "dtype: object"
      ]
     },
     "execution_count": 11,
     "metadata": {},
     "output_type": "execute_result"
    }
   ],
   "source": [
    "sample.dtypes"
   ]
  },
  {
   "cell_type": "code",
   "execution_count": 12,
   "metadata": {},
   "outputs": [
    {
     "name": "stdout",
     "output_type": "stream",
     "text": [
      "[2024-02-27 20:16:02,081 : INFO : common : yaml file: config\\config.yaml loaded successfully]\n",
      "[2024-02-27 20:16:02,086 : INFO : common : yaml file: params.yaml loaded successfully]\n",
      "[2024-02-27 20:16:02,089 : INFO : common : directory artifacts created]\n",
      "[2024-02-27 20:16:02,092 : INFO : common : directory artifacts/model_prediction created]\n"
     ]
    },
    {
     "name": "stdout",
     "output_type": "stream",
     "text": [
      "[2024-02-27 20:16:03,269 : INFO : 82938115 : Both preprocessor and model are loaded successfully from disk]\n",
      "[18381.42742799]\n"
     ]
    }
   ],
   "source": [
    "try:\n",
    "    config = ConfigurationManager()\n",
    "    model_prediction_config = config.get_model_prediction_config()\n",
    "    model_prediction = ModelPrediction(config = model_prediction_config)\n",
    "    result = model_prediction.predict_sample_data(sample)\n",
    "    print(result)\n",
    "    \n",
    "except Exception as e:\n",
    "    raise e"
   ]
  },
  {
   "cell_type": "code",
   "execution_count": null,
   "metadata": {},
   "outputs": [],
   "source": [
    "# temp comment"
   ]
  }
 ],
 "metadata": {
  "kernelspec": {
   "display_name": "venv",
   "language": "python",
   "name": "python3"
  },
  "language_info": {
   "codemirror_mode": {
    "name": "ipython",
    "version": 3
   },
   "file_extension": ".py",
   "mimetype": "text/x-python",
   "name": "python",
   "nbconvert_exporter": "python",
   "pygments_lexer": "ipython3",
   "version": "3.10.14"
  }
 },
 "nbformat": 4,
 "nbformat_minor": 2
}
